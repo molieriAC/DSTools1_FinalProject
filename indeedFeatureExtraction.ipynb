{
 "cells": [
  {
   "cell_type": "markdown",
   "metadata": {},
   "source": [
    "<h1 style=\"text-align:center;font-size:40px;\">Tools 1 Final Project</h1>\n",
    "<br>\n",
    "<br>\n",
    "<br>\n",
    "<br>\n",
    "<br>\n",
    "<br>\n",
    "<br>\n",
    "<br>\n",
    "<p style=\"text-align:center;\">Anthony Molieri<br>\n",
    "Leo Walker</p>\n",
    "<br>\n",
    "<br>\n",
    "<br>\n",
    "<br>"
   ]
  },
  {
   "cell_type": "markdown",
   "metadata": {},
   "source": [
    "# Dataset and Motivation\n",
    "\n",
    "The data used for these analyses were scraped from Indeed and Glassdoor. The data from Indeed contains job descriptions for open Data Scientist positions. The Glassdoor data includes employee generated ratings on benefits and perks for many of the companies present in the Indeed dataset. The datasets were then combined in order to give an idea of how employees rank the benefits at these companies.\n",
    "\n",
    "*The Indeed data was scraped over ... pulling job descriptions for Data Scientists in 25 cities throughout the US. **Leo** Add Correct Details, here about the Indded data and scraper*\n",
    "\n",
    "The Glassdoor scraper was designed to pull company names from the the job description dataset. It then looped over the list of employers, searched, and scraped ratings from the benefits page for companies that were found. This data was then added to it's own table in the same database. The scraper was designed to be run multiple times, only searching for benefits ratings that were not already present in the database. "
   ]
  },
  {
   "cell_type": "markdown",
   "metadata": {},
   "source": [
    "# Task Definition and Research Question\n",
    " \n",
    "The purpose of this project was to help give a better idea of how employees at companies with open positions rate their benefits. This can help give insight into how desirable a company is as an employer."
   ]
  },
  {
   "cell_type": "markdown",
   "metadata": {},
   "source": [
    "# Literature Review\n",
    "\n",
    "*Add -- I'm not really sure what to add here. Maybe something about turnover in data science? Companies not having great benefits?*"
   ]
  },
  {
   "cell_type": "markdown",
   "metadata": {},
   "source": [
    "# Data Cleaning"
   ]
  },
  {
   "cell_type": "code",
   "execution_count": 7,
   "metadata": {},
   "outputs": [],
   "source": [
    "# imports\n",
    "import numpy as np\n",
    "import pandas as pd\n",
    "import sqlite3\n",
    "import re"
   ]
  },
  {
   "cell_type": "markdown",
   "metadata": {},
   "source": []
  },
  {
   "cell_type": "code",
   "execution_count": 8,
   "metadata": {},
   "outputs": [],
   "source": [
    "# Initialize both tables\n",
    "cnct = sqlite3.connect('Data/jobs')\n",
    "\n",
    "indeed_df = pd.read_sql_query('SELECT * FROM indeed_jobs;', cnct)\n",
    "indeed_df.drop('est salary', axis=1, inplace=True)\n",
    "\n",
    "glassdoor_df = pd.read_sql_query('SELECT companies, type, rating, count_of_ratings FROM ratings;', cnct)"
   ]
  },
  {
   "cell_type": "markdown",
   "metadata": {},
   "source": [
    "## Cleaning Indeed Data"
   ]
  },
  {
   "cell_type": "code",
   "execution_count": 9,
   "metadata": {},
   "outputs": [],
   "source": [
    "# While we were able to get the estimated salary from the job scraping we can see if there was any job salaries within the job description\n",
    "def salary_extract(row):\n",
    "    if row['est_salary']!=\"No Estimated Salary\":\n",
    "        return row['est_salary']\n",
    "    else:\n",
    "        pattern = r\"\\$([0-9]{5,6}|[0-9]{2,3},[0-9]{3})\"\n",
    "        found = re.findall(pattern, row['job_desc'])\n",
    "        if len(found)==1:\n",
    "            return f'{found[0]} a year'\n",
    "        elif len(found)>1:\n",
    "            return f'{found[0]} - {found[1]} a year'\n",
    "        else:\n",
    "            return None\n",
    "\n",
    "indeed_df['salary_extract'] = indeed_df.apply(salary_extract, axis=1)"
   ]
  },
  {
   "cell_type": "code",
   "execution_count": 10,
   "metadata": {},
   "outputs": [],
   "source": [
    "# While we have the job title we need to categorize each job\n",
    "def set_job_category(job_title):\n",
    "    regex = re.compile('[^a-zA-Z]')\n",
    "    clean_title = regex.sub('', job_title)\n",
    "    clean_title = clean_title.lower()\n",
    "    if all(x in clean_title for x in [\"data\", \"scien\"]):\n",
    "        return \"Data Scientist\"\n",
    "    elif all(x in clean_title for x in [\"business\", \"analy\"]):\n",
    "        return \"Business Intelligence Analyst\"\n",
    "    elif all(x in clean_title for x in [\"bi\", \"analy\"]):\n",
    "        return \"Business Intelligence Analyst\"\n",
    "    elif all(x in clean_title for x in [\"data\", \"analy\"]):\n",
    "        return \"Data Analyst\"\n",
    "    elif all(x in clean_title for x in [\"machine\", \"learning\"]):\n",
    "        return \"Machine Learning Engineer\"\n",
    "    elif all(x in clean_title for x in [\"data\", \"engineer\"]):\n",
    "        return \"Data Engineer\"\n",
    "    elif all(x in clean_title for x in [\"software\", \"engin\"]):\n",
    "        return \"Software Engineer\"\n",
    "    elif all(x in clean_title for x in [\"architect\"]):\n",
    "        return \"Data Architect\"\n",
    "    else:\n",
    "        return \"Other\"\n",
    "\n",
    "indeed_df['job_category'] = indeed_df.loc[:, 'job_title'].apply(set_job_category)"
   ]
  },
  {
   "cell_type": "code",
   "execution_count": 11,
   "metadata": {},
   "outputs": [],
   "source": [
    "# Lets get the state from the company location so we can generalize them\n",
    "indeed_df.loc[:,'state'] = indeed_df.loc[:, 'company_location'].str.extract(r', ([A-Z]{2})')"
   ]
  },
  {
   "cell_type": "code",
   "execution_count": 14,
   "metadata": {},
   "outputs": [
    {
     "data": {
      "text/plain": [
       "0        None\n",
       "1        None\n",
       "2        None\n",
       "3        None\n",
       "4        None\n",
       "         ... \n",
       "17181    None\n",
       "17182    None\n",
       "17183    None\n",
       "17184    None\n",
       "17185    None\n",
       "Name: salary_extract, Length: 17186, dtype: object"
      ]
     },
     "execution_count": 14,
     "metadata": {},
     "output_type": "execute_result"
    }
   ],
   "source": [
    "indeed_df.salary_extract"
   ]
  },
  {
   "cell_type": "code",
   "execution_count": 49,
   "metadata": {},
   "outputs": [],
   "source": [
    "# We have the estimated salary but we need to parse out the min/low and max/high of the salary range so we can determine the average\n",
    "\n",
    "def salary_low(row):\n",
    "    if row ==None:\n",
    "        return None\n",
    "    salary = str(row).split('-')\n",
    "    pattern = r'([0-9]+\\.*,*[0-9]+)'\n",
    "    low = float(''.join(re.findall(pattern, salary[0])).replace(',',''))\n",
    "    return low\n",
    "\n",
    "def salary_high(row):\n",
    "    if row ==None:\n",
    "        return None\n",
    "    salary = str(row).split('-')\n",
    "    pattern = r'([0-9]+\\.*,*[0-9]+)'\n",
    "    if len(salary)>1:\n",
    "        high = float(''.join(re.findall(pattern, salary[1])).replace(',',''))\n",
    "    else:\n",
    "        high = float(''.join(re.findall(pattern, salary[0])).replace(',',''))\n",
    "    return high\n",
    "\n",
    "indeed_df.loc[:,['salary_low']] = indeed_df.loc[:,'salary_extract'].apply(salary_low)\n",
    "indeed_df.loc[:,['salary_high']] = indeed_df.loc[:,'salary_extract'].apply(salary_high)"
   ]
  },
  {
   "cell_type": "code",
   "execution_count": 45,
   "metadata": {},
   "outputs": [],
   "source": [
    "# We noticed that the pay rate varies between annual, month, week, day, or hour. \n",
    "def pay_rate(row):\n",
    "    if row ==None:\n",
    "        return None\n",
    "    regex = re.compile('[.[0-9]]')\n",
    "    clean_salary = regex.sub('', row)\n",
    "    clean_salary = clean_salary.lower()\n",
    "    if any(x in clean_salary for x in [\"year\"]):\n",
    "        return \"annual\"\n",
    "    elif any(x in clean_salary for x in [\"month\"]):\n",
    "        return \"month\"\n",
    "    elif any(x in clean_salary for x in [\"week\"]):\n",
    "        return \"week\"\n",
    "    elif any(x in clean_salary for x in [\"day\"]):\n",
    "        return \"day\"\n",
    "    elif any(x in clean_salary for x in [\"hour\"]):\n",
    "        return \"hour\"\n",
    "    else:\n",
    "        return \"Other\"\n",
    "\n",
    "indeed_df['pay_rate'] = indeed_df.loc[:, 'salary_extract'].apply(pay_rate)"
   ]
  },
  {
   "cell_type": "code",
   "execution_count": 46,
   "metadata": {},
   "outputs": [],
   "source": [
    "def calc_salary(row):\n",
    "    # print(row)\n",
    "    pay_rate=row['pay_rate']\n",
    "    if (pay_rate == 'Other') or (pay_rate==None):\n",
    "        return None\n",
    "\n",
    "    rate_change= {'annual':1, 'month':12, 'week':52, 'day':260, 'hour':2080}\n",
    "    est_annual_salary = ((row['salary_low']+row['salary_high'])/2)*rate_change[pay_rate]\n",
    "    return est_annual_salary\n",
    "indeed_df['est_annual_salary'] = indeed_df.loc[:,['salary_low','salary_high','pay_rate']].apply(calc_salary, axis=1)"
   ]
  },
  {
   "cell_type": "code",
   "execution_count": 48,
   "metadata": {},
   "outputs": [
    {
     "data": {
      "text/html": [
       "<div>\n",
       "<style scoped>\n",
       "    .dataframe tbody tr th:only-of-type {\n",
       "        vertical-align: middle;\n",
       "    }\n",
       "\n",
       "    .dataframe tbody tr th {\n",
       "        vertical-align: top;\n",
       "    }\n",
       "\n",
       "    .dataframe thead th {\n",
       "        text-align: right;\n",
       "    }\n",
       "</style>\n",
       "<table border=\"1\" class=\"dataframe\">\n",
       "  <thead>\n",
       "    <tr style=\"text-align: right;\">\n",
       "      <th></th>\n",
       "      <th>index</th>\n",
       "      <th>job_title</th>\n",
       "      <th>company_name</th>\n",
       "      <th>company_location</th>\n",
       "      <th>job_href</th>\n",
       "      <th>job_desc</th>\n",
       "      <th>est_salary</th>\n",
       "      <th>retrieve_date</th>\n",
       "      <th>salary_extract</th>\n",
       "      <th>job_category</th>\n",
       "      <th>state</th>\n",
       "      <th>salary_low</th>\n",
       "      <th>salary_high</th>\n",
       "      <th>pay_rate</th>\n",
       "      <th>est_annual_salary</th>\n",
       "    </tr>\n",
       "  </thead>\n",
       "  <tbody>\n",
       "    <tr>\n",
       "      <th>2200</th>\n",
       "      <td>0</td>\n",
       "      <td>Data Engineer</td>\n",
       "      <td>Seattle Kraken</td>\n",
       "      <td>Seattle, WA 98125 (Northgate area)</td>\n",
       "      <td>https://www.indeed.com/company/Kraken-Communit...</td>\n",
       "      <td>Our Purpose:We are building a championship org...</td>\n",
       "      <td>$85,000 - $100,000 a year</td>\n",
       "      <td>2022-02-12</td>\n",
       "      <td>$85,000 - $100,000 a year</td>\n",
       "      <td>Data Engineer</td>\n",
       "      <td>WA</td>\n",
       "      <td>85000.00</td>\n",
       "      <td>100000.00</td>\n",
       "      <td>annual</td>\n",
       "      <td>92500.0</td>\n",
       "    </tr>\n",
       "    <tr>\n",
       "      <th>3688</th>\n",
       "      <td>10</td>\n",
       "      <td>Business Analyst - 4187475</td>\n",
       "      <td>Accenture</td>\n",
       "      <td>Boston, MA</td>\n",
       "      <td>https://www.indeed.com/rc/clk?jk=9199ca6833f96...</td>\n",
       "      <td>Accenture Flex offers you the flexibility of l...</td>\n",
       "      <td>$28.76 - $54.66 an hour</td>\n",
       "      <td>2022-02-19</td>\n",
       "      <td>$28.76 - $54.66 an hour</td>\n",
       "      <td>Business Intelligence Analyst</td>\n",
       "      <td>MA</td>\n",
       "      <td>28.76</td>\n",
       "      <td>54.66</td>\n",
       "      <td>hour</td>\n",
       "      <td>86756.8</td>\n",
       "    </tr>\n",
       "    <tr>\n",
       "      <th>15068</th>\n",
       "      <td>2</td>\n",
       "      <td>Engineer 2 - Fraud Team</td>\n",
       "      <td>Nordstrom Inc</td>\n",
       "      <td>Seattle, WA</td>\n",
       "      <td>https://www.indeed.com/rc/clk?jk=61f0cd9bac2a4...</td>\n",
       "      <td>Job Description        An Engineer 2 is part...</td>\n",
       "      <td>$99,000 - $153,500 a year</td>\n",
       "      <td>2022-04-10</td>\n",
       "      <td>$99,000 - $153,500 a year</td>\n",
       "      <td>Other</td>\n",
       "      <td>WA</td>\n",
       "      <td>99000.00</td>\n",
       "      <td>153500.00</td>\n",
       "      <td>annual</td>\n",
       "      <td>126250.0</td>\n",
       "    </tr>\n",
       "    <tr>\n",
       "      <th>12557</th>\n",
       "      <td>5</td>\n",
       "      <td>Senior Data Scientist</td>\n",
       "      <td>CyberCoders</td>\n",
       "      <td>Los Angeles, CA 90034+1 location</td>\n",
       "      <td>https://www.indeed.com/pagead/clk?mo=r&amp;ad=-6NY...</td>\n",
       "      <td>Senior Data Scientist        If you are a ...</td>\n",
       "      <td>$150,000 - $170,000 a year</td>\n",
       "      <td>2022-04-03</td>\n",
       "      <td>$150,000 - $170,000 a year</td>\n",
       "      <td>Data Scientist</td>\n",
       "      <td>CA</td>\n",
       "      <td>150000.00</td>\n",
       "      <td>170000.00</td>\n",
       "      <td>annual</td>\n",
       "      <td>160000.0</td>\n",
       "    </tr>\n",
       "  </tbody>\n",
       "</table>\n",
       "</div>"
      ],
      "text/plain": [
       "       index                   job_title    company_name  \\\n",
       "2200       0               Data Engineer  Seattle Kraken   \n",
       "3688      10  Business Analyst - 4187475       Accenture   \n",
       "15068      2     Engineer 2 - Fraud Team   Nordstrom Inc   \n",
       "12557      5       Senior Data Scientist     CyberCoders   \n",
       "\n",
       "                         company_location  \\\n",
       "2200   Seattle, WA 98125 (Northgate area)   \n",
       "3688                           Boston, MA   \n",
       "15068                         Seattle, WA   \n",
       "12557    Los Angeles, CA 90034+1 location   \n",
       "\n",
       "                                                job_href  \\\n",
       "2200   https://www.indeed.com/company/Kraken-Communit...   \n",
       "3688   https://www.indeed.com/rc/clk?jk=9199ca6833f96...   \n",
       "15068  https://www.indeed.com/rc/clk?jk=61f0cd9bac2a4...   \n",
       "12557  https://www.indeed.com/pagead/clk?mo=r&ad=-6NY...   \n",
       "\n",
       "                                                job_desc  \\\n",
       "2200   Our Purpose:We are building a championship org...   \n",
       "3688   Accenture Flex offers you the flexibility of l...   \n",
       "15068    Job Description        An Engineer 2 is part...   \n",
       "12557      Senior Data Scientist        If you are a ...   \n",
       "\n",
       "                       est_salary retrieve_date              salary_extract  \\\n",
       "2200    $85,000 - $100,000 a year    2022-02-12   $85,000 - $100,000 a year   \n",
       "3688      $28.76 - $54.66 an hour    2022-02-19     $28.76 - $54.66 an hour   \n",
       "15068   $99,000 - $153,500 a year    2022-04-10   $99,000 - $153,500 a year   \n",
       "12557  $150,000 - $170,000 a year    2022-04-03  $150,000 - $170,000 a year   \n",
       "\n",
       "                        job_category state  salary_low  salary_high pay_rate  \\\n",
       "2200                   Data Engineer    WA    85000.00    100000.00   annual   \n",
       "3688   Business Intelligence Analyst    MA       28.76        54.66     hour   \n",
       "15068                          Other    WA    99000.00    153500.00   annual   \n",
       "12557                 Data Scientist    CA   150000.00    170000.00   annual   \n",
       "\n",
       "       est_annual_salary  \n",
       "2200             92500.0  \n",
       "3688             86756.8  \n",
       "15068           126250.0  \n",
       "12557           160000.0  "
      ]
     },
     "execution_count": 48,
     "metadata": {},
     "output_type": "execute_result"
    }
   ],
   "source": [
    "indeed_df[indeed_df['est_salary']!='No Estimated Salary'].sample(4)"
   ]
  },
  {
   "cell_type": "code",
   "execution_count": null,
   "metadata": {},
   "outputs": [],
   "source": []
  },
  {
   "cell_type": "markdown",
   "metadata": {},
   "source": [
    "# Visualizations"
   ]
  },
  {
   "cell_type": "markdown",
   "metadata": {},
   "source": []
  },
  {
   "cell_type": "code",
   "execution_count": null,
   "metadata": {},
   "outputs": [],
   "source": []
  },
  {
   "cell_type": "code",
   "execution_count": null,
   "metadata": {},
   "outputs": [],
   "source": []
  },
  {
   "cell_type": "code",
   "execution_count": null,
   "metadata": {},
   "outputs": [],
   "source": []
  }
 ],
 "metadata": {
  "interpreter": {
   "hash": "e3111033453583fc3dfa615d9741e89714a482916abdba1257ad39328c2799a9"
  },
  "kernelspec": {
   "display_name": "Python 3.9.7 ('JobsNLP')",
   "language": "python",
   "name": "python3"
  },
  "language_info": {
   "codemirror_mode": {
    "name": "ipython",
    "version": 3
   },
   "file_extension": ".py",
   "mimetype": "text/x-python",
   "name": "python",
   "nbconvert_exporter": "python",
   "pygments_lexer": "ipython3",
   "version": "3.9.7"
  },
  "orig_nbformat": 4
 },
 "nbformat": 4,
 "nbformat_minor": 2
}
