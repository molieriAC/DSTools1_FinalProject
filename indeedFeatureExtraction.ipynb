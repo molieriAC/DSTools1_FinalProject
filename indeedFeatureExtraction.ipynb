{
 "cells": [
  {
   "cell_type": "markdown",
   "metadata": {},
   "source": [
    "<h1 style=\"text-align:center;font-size:40px;\">Tools 1 Final Project</h1>\n",
    "<br>\n",
    "<br>\n",
    "<br>\n",
    "<br>\n",
    "<br>\n",
    "<p style=\"text-align:center;\">Anthony Molieri<br>\n",
    "Leo Walker</p>\n",
    "<br>\n",
    "<br>\n",
    "<br>\n",
    "<br>"
   ]
  },
  {
   "cell_type": "markdown",
   "metadata": {},
   "source": [
    "# Dataset and Motivation\n",
    "\n",
    "The data used for these analyses were scraped from Indeed and Glassdoor. The data from Indeed contains job descriptions for open Data Scientist positions. The Glassdoor data includes employee generated ratings on benefits and perks for many of the companies present in the Indeed dataset. The datasets were then combined in order to give an idea of how employees rank the benefits at these companies.\n",
    "\n",
    "*The Indeed data was scraped over ... pulling job descriptions for Data Scientists in 25 cities throughout the US. **Leo** Add Correct Details, here about the Indded data and scraper*\n",
    "\n",
    "The Glassdoor scraper was designed to pull company names from the the job description dataset. It then looped over the list of employers, searched, and scraped ratings from the benefits page for companies that were found. This data was then added to it's own table in the same database. The scraper was designed to be run multiple times, only searching for benefits ratings that were not already present in the database. "
   ]
  },
  {
   "cell_type": "markdown",
   "metadata": {},
   "source": [
    "# Task Definition and Research Question\n",
    " \n",
    "The purpose of this project was to help give a better idea of how employees at companies with open positions rate their benefits. This can help give insight into how desirable a company is as an employer."
   ]
  },
  {
   "cell_type": "markdown",
   "metadata": {},
   "source": [
    "# Literature Review\n",
    "\n",
    "*Add -- I'm not really sure what to add here. Maybe something about turnover in data science? Companies not having great benefits?*"
   ]
  },
  {
   "cell_type": "markdown",
   "metadata": {},
   "source": [
    "# Data Cleaning"
   ]
  },
  {
   "cell_type": "code",
   "execution_count": 7,
   "metadata": {},
   "outputs": [],
   "source": [
    "# imports\n",
    "import numpy as np\n",
    "import pandas as pd\n",
    "import sqlite3\n",
    "import re\n",
    "import seaborn as sns"
   ]
  },
  {
   "cell_type": "markdown",
   "metadata": {},
   "source": []
  },
  {
   "cell_type": "code",
   "execution_count": 8,
   "metadata": {},
   "outputs": [],
   "source": [
    "# Initialize both tables\n",
    "cnct = sqlite3.connect('Data/jobs')\n",
    "\n",
    "indeed_df = pd.read_sql_query('SELECT * FROM indeed_jobs;', cnct)\n",
    "indeed_df.drop('est salary', axis=1, inplace=True)\n",
    "\n",
    "glassdoor_df = pd.read_sql_query('SELECT companies, type, rating, count_of_ratings FROM ratings;', cnct)"
   ]
  },
  {
   "cell_type": "markdown",
   "metadata": {},
   "source": [
    "## Cleaning Indeed Data"
   ]
  },
  {
   "cell_type": "code",
   "execution_count": 9,
   "metadata": {},
   "outputs": [],
   "source": [
    "# While we were able to get the estimated salary from the job scraping we can see if there was any job salaries within the job description\n",
    "def salary_extract(row):\n",
    "    if row['est_salary']!=\"No Estimated Salary\":\n",
    "        return row['est_salary']\n",
    "    else:\n",
    "        pattern = r\"\\$([0-9]{5,6}|[0-9]{2,3},[0-9]{3})\"\n",
    "        found = re.findall(pattern, row['job_desc'])\n",
    "        if len(found)==1:\n",
    "            return f'{found[0]} a year'\n",
    "        elif len(found)>1:\n",
    "            return f'{found[0]} - {found[1]} a year'\n",
    "        else:\n",
    "            return None\n",
    "\n",
    "indeed_df['salary_extract'] = indeed_df.apply(salary_extract, axis=1)"
   ]
  },
  {
   "cell_type": "code",
   "execution_count": 10,
   "metadata": {},
   "outputs": [],
   "source": [
    "# While we have the job title we need to categorize each job\n",
    "def set_job_category(job_title):\n",
    "    regex = re.compile('[^a-zA-Z]')\n",
    "    clean_title = regex.sub('', job_title)\n",
    "    clean_title = clean_title.lower()\n",
    "    if all(x in clean_title for x in [\"data\", \"scien\"]):\n",
    "        return \"Data Scientist\"\n",
    "    elif all(x in clean_title for x in [\"business\", \"analy\"]):\n",
    "        return \"Business Intelligence Analyst\"\n",
    "    elif all(x in clean_title for x in [\"bi\", \"analy\"]):\n",
    "        return \"Business Intelligence Analyst\"\n",
    "    elif all(x in clean_title for x in [\"data\", \"analy\"]):\n",
    "        return \"Data Analyst\"\n",
    "    elif all(x in clean_title for x in [\"machine\", \"learning\"]):\n",
    "        return \"Machine Learning Engineer\"\n",
    "    elif all(x in clean_title for x in [\"data\", \"engineer\"]):\n",
    "        return \"Data Engineer\"\n",
    "    elif all(x in clean_title for x in [\"software\", \"engin\"]):\n",
    "        return \"Software Engineer\"\n",
    "    elif all(x in clean_title for x in [\"architect\"]):\n",
    "        return \"Data Architect\"\n",
    "    else:\n",
    "        return \"Other\"\n",
    "\n",
    "indeed_df['job_category'] = indeed_df.loc[:, 'job_title'].apply(set_job_category)"
   ]
  },
  {
   "cell_type": "code",
   "execution_count": 11,
   "metadata": {},
   "outputs": [],
   "source": [
    "# Lets get the state from the company location so we can generalize them\n",
    "indeed_df.loc[:,'state'] = indeed_df.loc[:, 'company_location'].str.extract(r', ([A-Z]{2})')"
   ]
  },
  {
   "cell_type": "code",
   "execution_count": 49,
   "metadata": {},
   "outputs": [],
   "source": [
    "# We have the estimated salary but we need to parse out the min/low and max/high of the salary range so we can determine the average\n",
    "\n",
    "def salary_low(row):\n",
    "    if row ==None:\n",
    "        return None\n",
    "    salary = str(row).split('-')\n",
    "    pattern = r'([0-9]+\\.*,*[0-9]+)'\n",
    "    low = float(''.join(re.findall(pattern, salary[0])).replace(',',''))\n",
    "    return low\n",
    "\n",
    "def salary_high(row):\n",
    "    if row ==None:\n",
    "        return None\n",
    "    salary = str(row).split('-')\n",
    "    pattern = r'([0-9]+\\.*,*[0-9]+)'\n",
    "    if len(salary)>1:\n",
    "        high = float(''.join(re.findall(pattern, salary[1])).replace(',',''))\n",
    "    else:\n",
    "        high = float(''.join(re.findall(pattern, salary[0])).replace(',',''))\n",
    "    return high\n",
    "\n",
    "indeed_df.loc[:,['salary_low']] = indeed_df.loc[:,'salary_extract'].apply(salary_low)\n",
    "indeed_df.loc[:,['salary_high']] = indeed_df.loc[:,'salary_extract'].apply(salary_high)"
   ]
  },
  {
   "cell_type": "code",
   "execution_count": 45,
   "metadata": {},
   "outputs": [],
   "source": [
    "# We noticed that the pay rate varies between annual, month, week, day, or hour. \n",
    "def pay_rate(row):\n",
    "    if row ==None:\n",
    "        return None\n",
    "    regex = re.compile('[.[0-9]]')\n",
    "    clean_salary = regex.sub('', row)\n",
    "    clean_salary = clean_salary.lower()\n",
    "    if any(x in clean_salary for x in [\"year\"]):\n",
    "        return \"annual\"\n",
    "    elif any(x in clean_salary for x in [\"month\"]):\n",
    "        return \"month\"\n",
    "    elif any(x in clean_salary for x in [\"week\"]):\n",
    "        return \"week\"\n",
    "    elif any(x in clean_salary for x in [\"day\"]):\n",
    "        return \"day\"\n",
    "    elif any(x in clean_salary for x in [\"hour\"]):\n",
    "        return \"hour\"\n",
    "    else:\n",
    "        return \"Other\"\n",
    "\n",
    "indeed_df['pay_rate'] = indeed_df.loc[:, 'salary_extract'].apply(pay_rate)"
   ]
  },
  {
   "cell_type": "code",
   "execution_count": 46,
   "metadata": {},
   "outputs": [],
   "source": [
    "def calc_salary(row):\n",
    "    # print(row)\n",
    "    pay_rate=row['pay_rate']\n",
    "    if (pay_rate == 'Other') or (pay_rate==None):\n",
    "        return None\n",
    "\n",
    "    rate_change= {'annual':1, 'month':12, 'week':52, 'day':260, 'hour':2080}\n",
    "    est_annual_salary = ((row['salary_low']+row['salary_high'])/2)*rate_change[pay_rate]\n",
    "    return est_annual_salary\n",
    "indeed_df['est_annual_salary'] = indeed_df.loc[:,['salary_low','salary_high','pay_rate']].apply(calc_salary, axis=1)"
   ]
  },
  {
   "cell_type": "code",
   "execution_count": 53,
   "metadata": {},
   "outputs": [
    {
     "data": {
      "text/html": [
       "<div>\n",
       "<style scoped>\n",
       "    .dataframe tbody tr th:only-of-type {\n",
       "        vertical-align: middle;\n",
       "    }\n",
       "\n",
       "    .dataframe tbody tr th {\n",
       "        vertical-align: top;\n",
       "    }\n",
       "\n",
       "    .dataframe thead th {\n",
       "        text-align: right;\n",
       "    }\n",
       "</style>\n",
       "<table border=\"1\" class=\"dataframe\">\n",
       "  <thead>\n",
       "    <tr style=\"text-align: right;\">\n",
       "      <th></th>\n",
       "      <th>index</th>\n",
       "      <th>job_title</th>\n",
       "      <th>company_name</th>\n",
       "      <th>company_location</th>\n",
       "      <th>job_href</th>\n",
       "      <th>job_desc</th>\n",
       "      <th>est_salary</th>\n",
       "      <th>retrieve_date</th>\n",
       "      <th>salary_extract</th>\n",
       "      <th>job_category</th>\n",
       "      <th>state</th>\n",
       "      <th>salary_low</th>\n",
       "      <th>salary_high</th>\n",
       "      <th>pay_rate</th>\n",
       "      <th>est_annual_salary</th>\n",
       "    </tr>\n",
       "  </thead>\n",
       "  <tbody>\n",
       "    <tr>\n",
       "      <th>12694</th>\n",
       "      <td>12</td>\n",
       "      <td>Business and Data Analyst</td>\n",
       "      <td>NYC Careers</td>\n",
       "      <td>Manhattan, NY 10007 (Financial District area)</td>\n",
       "      <td>https://www.indeed.com/rc/clk?jk=483e193c26609...</td>\n",
       "      <td>New York City Comptroller’s Burea...</td>\n",
       "      <td>$90,000 - $100,000 a year</td>\n",
       "      <td>2022-04-03</td>\n",
       "      <td>$90,000 - $100,000 a year</td>\n",
       "      <td>Business Intelligence Analyst</td>\n",
       "      <td>NY</td>\n",
       "      <td>90000.0</td>\n",
       "      <td>100000.0</td>\n",
       "      <td>annual</td>\n",
       "      <td>95000.0</td>\n",
       "    </tr>\n",
       "    <tr>\n",
       "      <th>10728</th>\n",
       "      <td>6</td>\n",
       "      <td>Senior Data Analyst</td>\n",
       "      <td>RetailData LLC</td>\n",
       "      <td>Glen Allen, VA</td>\n",
       "      <td>https://www.indeed.com/rc/clk?jk=01812d71f0172...</td>\n",
       "      <td>About the Role: We are seeking a Senior Data A...</td>\n",
       "      <td>$75,000 - $95,000 a year</td>\n",
       "      <td>2022-03-19</td>\n",
       "      <td>$75,000 - $95,000 a year</td>\n",
       "      <td>Data Analyst</td>\n",
       "      <td>VA</td>\n",
       "      <td>75000.0</td>\n",
       "      <td>95000.0</td>\n",
       "      <td>annual</td>\n",
       "      <td>85000.0</td>\n",
       "    </tr>\n",
       "    <tr>\n",
       "      <th>13377</th>\n",
       "      <td>11</td>\n",
       "      <td>Sr. Data Scientist/Machine Learning Engineer</td>\n",
       "      <td>DISYS</td>\n",
       "      <td>Dallas, TX</td>\n",
       "      <td>https://www.indeed.com/pagead/clk?mo=r&amp;ad=-6NY...</td>\n",
       "      <td>Job Title: - Sr Data Scientist / or ML Engine...</td>\n",
       "      <td>$130,000 - $170,000 a year</td>\n",
       "      <td>2022-04-04</td>\n",
       "      <td>$130,000 - $170,000 a year</td>\n",
       "      <td>Data Scientist</td>\n",
       "      <td>TX</td>\n",
       "      <td>130000.0</td>\n",
       "      <td>170000.0</td>\n",
       "      <td>annual</td>\n",
       "      <td>150000.0</td>\n",
       "    </tr>\n",
       "    <tr>\n",
       "      <th>5538</th>\n",
       "      <td>5</td>\n",
       "      <td>Sr. Data Engineer</td>\n",
       "      <td>Southside Bank</td>\n",
       "      <td>Austin, TX 78746</td>\n",
       "      <td>https://www.indeed.com/rc/clk?jk=c25d1e52cfbb1...</td>\n",
       "      <td>Position Title: Sr. Data Engineer FLSA Status:...</td>\n",
       "      <td>$100,000 - $115,000 a year</td>\n",
       "      <td>2022-02-26</td>\n",
       "      <td>$100,000 - $115,000 a year</td>\n",
       "      <td>Data Engineer</td>\n",
       "      <td>TX</td>\n",
       "      <td>100000.0</td>\n",
       "      <td>115000.0</td>\n",
       "      <td>annual</td>\n",
       "      <td>107500.0</td>\n",
       "    </tr>\n",
       "  </tbody>\n",
       "</table>\n",
       "</div>"
      ],
      "text/plain": [
       "       index                                     job_title    company_name  \\\n",
       "12694     12                     Business and Data Analyst     NYC Careers   \n",
       "10728      6                           Senior Data Analyst  RetailData LLC   \n",
       "13377     11  Sr. Data Scientist/Machine Learning Engineer           DISYS   \n",
       "5538       5                             Sr. Data Engineer  Southside Bank   \n",
       "\n",
       "                                    company_location  \\\n",
       "12694  Manhattan, NY 10007 (Financial District area)   \n",
       "10728                                 Glen Allen, VA   \n",
       "13377                                     Dallas, TX   \n",
       "5538                                Austin, TX 78746   \n",
       "\n",
       "                                                job_href  \\\n",
       "12694  https://www.indeed.com/rc/clk?jk=483e193c26609...   \n",
       "10728  https://www.indeed.com/rc/clk?jk=01812d71f0172...   \n",
       "13377  https://www.indeed.com/pagead/clk?mo=r&ad=-6NY...   \n",
       "5538   https://www.indeed.com/rc/clk?jk=c25d1e52cfbb1...   \n",
       "\n",
       "                                                job_desc  \\\n",
       "12694               New York City Comptroller’s Burea...   \n",
       "10728  About the Role: We are seeking a Senior Data A...   \n",
       "13377   Job Title: - Sr Data Scientist / or ML Engine...   \n",
       "5538   Position Title: Sr. Data Engineer FLSA Status:...   \n",
       "\n",
       "                       est_salary retrieve_date              salary_extract  \\\n",
       "12694   $90,000 - $100,000 a year    2022-04-03   $90,000 - $100,000 a year   \n",
       "10728    $75,000 - $95,000 a year    2022-03-19    $75,000 - $95,000 a year   \n",
       "13377  $130,000 - $170,000 a year    2022-04-04  $130,000 - $170,000 a year   \n",
       "5538   $100,000 - $115,000 a year    2022-02-26  $100,000 - $115,000 a year   \n",
       "\n",
       "                        job_category state  salary_low  salary_high pay_rate  \\\n",
       "12694  Business Intelligence Analyst    NY     90000.0     100000.0   annual   \n",
       "10728                   Data Analyst    VA     75000.0      95000.0   annual   \n",
       "13377                 Data Scientist    TX    130000.0     170000.0   annual   \n",
       "5538                   Data Engineer    TX    100000.0     115000.0   annual   \n",
       "\n",
       "       est_annual_salary  \n",
       "12694            95000.0  \n",
       "10728            85000.0  \n",
       "13377           150000.0  \n",
       "5538            107500.0  "
      ]
     },
     "execution_count": 53,
     "metadata": {},
     "output_type": "execute_result"
    }
   ],
   "source": [
    "indeed_df[indeed_df['est_salary']!='No Estimated Salary'].sample(4)"
   ]
  },
  {
   "cell_type": "markdown",
   "metadata": {},
   "source": [
    "# Visualizations"
   ]
  },
  {
   "cell_type": "markdown",
   "metadata": {},
   "source": [
    "Lets start by looking at average salary by state and job category"
   ]
  },
  {
   "cell_type": "code",
   "execution_count": 78,
   "metadata": {},
   "outputs": [],
   "source": []
  },
  {
   "cell_type": "code",
   "execution_count": 101,
   "metadata": {},
   "outputs": [
    {
     "data": {
      "image/png": "[encoded data removed]",
      "text/plain": [
       "<Figure size 1584x864 with 1 Axes>"
      ]
     },
     "metadata": {},
     "output_type": "display_data"
    }
   ],
   "source": [
    "# Lets see what states share their salary the most\n",
    "salary_by_job_state_count = indeed_df[((indeed_df['job_category']!='Other')&(indeed_df['est_annual_salary']>0))].groupby(['job_category', 'state'])['est_annual_salary'].count().reset_index()\n",
    "sns.set(rc={'figure.figsize':(22,12)})\n",
    "ax = sns.barplot(x='state', y='est_annual_salary', data=salary_by_job_state_count, estimator=sum,ci=None)"
   ]
  },
  {
   "cell_type": "code",
   "execution_count": 109,
   "metadata": {},
   "outputs": [
    {
     "data": {
      "image/png": "[encoded data removed]",
      "text/plain": [
       "<Figure size 1584x864 with 1 Axes>"
      ]
     },
     "metadata": {},
     "output_type": "display_data"
    }
   ],
   "source": [
    "salary_by_job_state_mean = indeed_df[((indeed_df['job_category']!='Other')&(indeed_df['est_annual_salary']>0))].groupby(['job_category'])['est_annual_salary'].mean().reset_index()\n",
    "sns.set(rc={'figure.figsize':(22,12)})\n",
    "ax = sns.barplot(x='job_category', y='est_annual_salary', data=salary_by_job_state_mean)"
   ]
  },
  {
   "cell_type": "code",
   "execution_count": 77,
   "metadata": {},
   "outputs": [
    {
     "data": {
      "image/png": "[encoded data removed]",
      "text/plain": [
       "<Figure size 2160x864 with 1 Axes>"
      ]
     },
     "metadata": {},
     "output_type": "display_data"
    }
   ],
   "source": [
    "salary_by_job_state_mean = indeed_df[((indeed_df['job_category']!='Other')&(indeed_df['est_annual_salary']>0))].groupby(['job_category', 'state'])['est_annual_salary'].mean().reset_index()\n",
    "sns.set(rc={'figure.figsize':(30,12)})\n",
    "ax = sns.barplot(x='job_category', y='est_annual_salary', hue='state', data=salary_by_job_state_mean)"
   ]
  },
  {
   "cell_type": "code",
   "execution_count": 107,
   "metadata": {},
   "outputs": [
    {
     "data": {
      "text/html": [
       "<div>\n",
       "<style scoped>\n",
       "    .dataframe tbody tr th:only-of-type {\n",
       "        vertical-align: middle;\n",
       "    }\n",
       "\n",
       "    .dataframe tbody tr th {\n",
       "        vertical-align: top;\n",
       "    }\n",
       "\n",
       "    .dataframe thead th {\n",
       "        text-align: right;\n",
       "    }\n",
       "</style>\n",
       "<table border=\"1\" class=\"dataframe\">\n",
       "  <thead>\n",
       "    <tr style=\"text-align: right;\">\n",
       "      <th></th>\n",
       "      <th>index</th>\n",
       "      <th>job_title</th>\n",
       "      <th>company_name</th>\n",
       "      <th>company_location</th>\n",
       "      <th>job_href</th>\n",
       "      <th>job_desc</th>\n",
       "      <th>est_salary</th>\n",
       "      <th>retrieve_date</th>\n",
       "      <th>salary_extract</th>\n",
       "      <th>job_category</th>\n",
       "      <th>state</th>\n",
       "      <th>salary_low</th>\n",
       "      <th>salary_high</th>\n",
       "      <th>pay_rate</th>\n",
       "      <th>est_annual_salary</th>\n",
       "    </tr>\n",
       "  </thead>\n",
       "  <tbody>\n",
       "    <tr>\n",
       "      <th>8736</th>\n",
       "      <td>14</td>\n",
       "      <td>Data Analyst 3</td>\n",
       "      <td>Zynga</td>\n",
       "      <td>Temporarily Remote in Toronto, ON</td>\n",
       "      <td>https://www.indeed.com/rc/clk?jk=79baf1e8177d9...</td>\n",
       "      <td>Zynga is a leading developer of the world’s mo...</td>\n",
       "      <td>No Estimated Salary</td>\n",
       "      <td>2022-03-14</td>\n",
       "      <td>None</td>\n",
       "      <td>Data Analyst</td>\n",
       "      <td>ON</td>\n",
       "      <td>NaN</td>\n",
       "      <td>NaN</td>\n",
       "      <td>None</td>\n",
       "      <td>NaN</td>\n",
       "    </tr>\n",
       "  </tbody>\n",
       "</table>\n",
       "</div>"
      ],
      "text/plain": [
       "      index       job_title company_name                   company_location  \\\n",
       "8736     14  Data Analyst 3        Zynga  Temporarily Remote in Toronto, ON   \n",
       "\n",
       "                                               job_href  \\\n",
       "8736  https://www.indeed.com/rc/clk?jk=79baf1e8177d9...   \n",
       "\n",
       "                                               job_desc           est_salary  \\\n",
       "8736  Zynga is a leading developer of the world’s mo...  No Estimated Salary   \n",
       "\n",
       "     retrieve_date salary_extract  job_category state  salary_low  \\\n",
       "8736    2022-03-14           None  Data Analyst    ON         NaN   \n",
       "\n",
       "      salary_high pay_rate  est_annual_salary  \n",
       "8736          NaN     None                NaN  "
      ]
     },
     "execution_count": 107,
     "metadata": {},
     "output_type": "execute_result"
    }
   ],
   "source": [
    "indeed_df[indeed_df.state == 'ON']"
   ]
  },
  {
   "cell_type": "code",
   "execution_count": null,
   "metadata": {},
   "outputs": [],
   "source": []
  },
  {
   "cell_type": "code",
   "execution_count": null,
   "metadata": {},
   "outputs": [],
   "source": []
  }
 ],
 "metadata": {
  "interpreter": {
   "hash": "e3111033453583fc3dfa615d9741e89714a482916abdba1257ad39328c2799a9"
  },
  "kernelspec": {
   "display_name": "Python 3.9.7 ('JobsNLP')",
   "language": "python",
   "name": "python3"
  },
  "language_info": {
   "codemirror_mode": {
    "name": "ipython",
    "version": 3
   },
   "file_extension": ".py",
   "mimetype": "text/x-python",
   "name": "python",
   "nbconvert_exporter": "python",
   "pygments_lexer": "ipython3",
   "version": "3.9.7"
  },
  "orig_nbformat": 4
 },
 "nbformat": 4,
 "nbformat_minor": 2
}
