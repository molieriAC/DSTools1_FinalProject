{
 "cells": [
  {
   "cell_type": "markdown",
   "metadata": {},
   "source": [
    "<h1 style=\"text-align:center;font-size:40px;\">Tools 1 Final Project</h1>\n",
    "<br>\n",
    "<br>\n",
    "<br>\n",
    "<br>\n",
    "<br>\n",
    "<br>\n",
    "<br>\n",
    "<br>\n",
    "<p style=\"text-align:center;\">Anthony Molieri<br>\n",
    "Leo Walker</p>\n",
    "<br>\n",
    "<br>\n",
    "<br>\n",
    "<br>"
   ]
  },
  {
   "cell_type": "markdown",
   "metadata": {},
   "source": [
    "# Dataset and Motivation\n",
    "\n",
    "The data used for these analyses were scraped from Indeed and Glassdoor. The data from Indeed contains job descriptions for open Data Scientist positions. The Glassdoor data includes employee generated ratings on benefits and perks for many of the companies present in the Indeed dataset. The datasets were then combined in order to give an idea of how employees rank the benefits at these companies.\n",
    "\n",
    "*The Indeed data was scraped over ... pulling job descriptions for Data Scientists in 25 cities throughout the US. **Leo** Add Correct Details, here about the Indded data and scraper*\n",
    "\n",
    "The Glassdoor scraper was designed to pull company names from the the job description dataset. It then looped over the list of employers, searched, and scraped ratings from the benefits page for companies that were found. This data was then added to it's own table in the same database. The scraper was designed to be run multiple times, only searching for benefits ratings that were not already present in the database. "
   ]
  },
  {
   "cell_type": "markdown",
   "metadata": {},
   "source": [
    "# Task Definition and Research Question\n",
    " \n",
    "The purpose of this project was to help give a better idea of how employees at companies with open positions rate their benefits. This can help give insight into how desirable a company is as an employer."
   ]
  },
  {
   "cell_type": "markdown",
   "metadata": {},
   "source": [
    "# Literature Review\n",
    "\n",
    "*Add -- I'm not really sure what to add here. Maybe something about turnover in data science? Companies not having great benefits?*"
   ]
  },
  {
   "cell_type": "markdown",
   "metadata": {},
   "source": [
    "# Data Cleaning"
   ]
  },
  {
   "cell_type": "code",
   "execution_count": 9,
   "metadata": {},
   "outputs": [],
   "source": [
    "# imports\n",
    "import numpy as np\n",
    "import pandas as pd\n",
    "import sqlite3\n",
    "import re"
   ]
  },
  {
   "cell_type": "code",
   "execution_count": 10,
   "metadata": {},
   "outputs": [],
   "source": [
    "# Initialize both tables\n",
    "cnct = sqlite3.connect('Data/jobs')\n",
    "\n",
    "indeed_df = pd.read_sql_query('SELECT * FROM indeed_jobs;', cnct)\n",
    "\n",
    "glassdoor_df = pd.read_sql_query('SELECT companies, type, rating, count_of_ratings FROM ratings;', cnct)"
   ]
  },
  {
   "cell_type": "markdown",
   "metadata": {},
   "source": [
    "## Cleaning Indeed Data"
   ]
  },
  {
   "cell_type": "code",
   "execution_count": 11,
   "metadata": {},
   "outputs": [],
   "source": [
    "# # Pull missing salary data from description\n",
    "# salaryFix = indeed_df[['job_desc', 'est_salary']].copy()\n",
    "\n",
    "# salaryFix['check1'] = salaryFix['job_desc'].str.contains(\"\\$\")\n",
    "# salaryFix['check2'] = salaryFix['job_desc'].str.contains(\"salary\")\n",
    "\n",
    "# I'm not great at regex but let's try this\n",
    "# Only look for salary data when it's missint in 'est_salary' \n",
    "indeed_df['salary_extract'] = np.where(indeed_df['est_salary'] == \"No Estimated Salary\",indeed_df['job_desc'].str.extract(\"((\\$)(([0-9])([0-9])([0-9])(,)([0-9])([0-9])([0-9])|([0-9])([0-9])(,)([0-9])([0-9])([0-9]))( to |-| - )(\\$|)(([0-9])([0-9])([0-9])(,)([0-9])([0-9])([0-9])|([0-9])([0-9])(,)([0-9])([0-9])([0-9]))|(\\$)([0-9][0-9][0-9],[0-9][0-9][0-9])|(\\$)([0-9][0-9],[0-9][0-9][0-9]))\")[0], np.NaN)"
   ]
  },
  {
   "cell_type": "code",
   "execution_count": 12,
   "metadata": {},
   "outputs": [],
   "source": [
    "def set_job_category(job_title):\n",
    "    regex = re.compile('[^a-zA-Z]')\n",
    "    clean_title = regex.sub('', job_title)\n",
    "    clean_title = clean_title.lower()\n",
    "    if all(x in clean_title for x in [\"data\", \"scien\"]):\n",
    "        return \"Data Scientist\"\n",
    "    elif all(x in clean_title for x in [\"business\", \"analy\"]):\n",
    "        return \"Business Intelligence Analyst\"\n",
    "    elif all(x in clean_title for x in [\"bi\", \"analy\"]):\n",
    "        return \"Business Intelligence Analyst\"\n",
    "    elif all(x in clean_title for x in [\"data\", \"analy\"]):\n",
    "        return \"Data Analyst\"\n",
    "    elif all(x in clean_title for x in [\"machine\", \"learning\"]):\n",
    "        return \"Machine Learning Engineer\"\n",
    "    elif all(x in clean_title for x in [\"data\", \"engineer\"]):\n",
    "        return \"Data Engineer\"\n",
    "    elif all(x in clean_title for x in [\"software\", \"engin\"]):\n",
    "        return \"Software Engineer\"\n",
    "    elif all(x in clean_title for x in [\"architect\"]):\n",
    "        return \"Data Architect\"\n",
    "    else:\n",
    "        return \"Other\"\n",
    "indeed_df['job_category'] = indeed_df.loc[:, 'job_title'].apply(set_job_category)"
   ]
  },
  {
   "cell_type": "code",
   "execution_count": 20,
   "metadata": {},
   "outputs": [],
   "source": [
    "indeed_df.to_csv('indeed.csv')"
   ]
  },
  {
   "cell_type": "code",
   "execution_count": null,
   "metadata": {},
   "outputs": [],
   "source": []
  },
  {
   "cell_type": "markdown",
   "metadata": {},
   "source": [
    "## Cleaning Glassdoor Data"
   ]
  },
  {
   "cell_type": "markdown",
   "metadata": {},
   "source": [
    "# Visualizations"
   ]
  },
  {
   "cell_type": "markdown",
   "metadata": {},
   "source": []
  }
 ],
 "metadata": {
  "interpreter": {
   "hash": "1d68ae1d62c06083399c3e6ba6cafb8b1cbdfc457741537fa473d400b910d551"
  },
  "kernelspec": {
   "display_name": "Python 3.9.7 ('base')",
   "language": "python",
   "name": "python3"
  },
  "language_info": {
   "codemirror_mode": {
    "name": "ipython",
    "version": 3
   },
   "file_extension": ".py",
   "mimetype": "text/x-python",
   "name": "python",
   "nbconvert_exporter": "python",
   "pygments_lexer": "ipython3",
   "version": "3.9.7"
  },
  "orig_nbformat": 4
 },
 "nbformat": 4,
 "nbformat_minor": 2
}
